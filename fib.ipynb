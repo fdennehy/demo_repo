{
 "cells": [
  {
   "cell_type": "markdown",
   "metadata": {},
   "source": [
    "# Fibonacci Sequence\n",
    "\n",
    "***"
   ]
  },
  {
   "cell_type": "markdown",
   "metadata": {},
   "source": [
    "**Disclaimer:** I used ChatGPT to generate ideas and sketches of the content of the following notebook. The notebook is mainly my own work, as sometimes ChatGPT sometimes suggested clearly incorrect ideas and in any case I had to re-work the code and text it generated to meet my own needs."
   ]
  },
  {
   "cell_type": "markdown",
   "metadata": {},
   "source": [
    "Below is [WikiPedia's explanation of the Fibonacci sequence](https://en.wikipedia.org/w/index.php?title=Fibonacci_sequence&action=edit&section=1):\n",
    "\n",
    "The Fibonacci numbers may be defined by the recurrence relation\n",
    "\n",
    "$F_0 = 0, F_1 = 1, F_n = F_{n-1} + F_{n-2}$\n",
    "\n",
    "Th sequence is then:\n",
    "\n",
    "0, 1, 1, 2, 3, 5, 8, 13, 21, 34, 55, 89, 144, ...."
   ]
  },
  {
   "cell_type": "markdown",
   "metadata": {},
   "source": [
    "Below is GitHub Co-pilot's explanation of the Fibonacci sequence."
   ]
  },
  {
   "cell_type": "markdown",
   "metadata": {},
   "source": [
    "The Fibonacci sequence is a series of numbers where each number is the sum of the two preceding ones, usually starting with 0 and 1. So, the sequence goes: 0, 1, 1, 2, 3, 5, 8, 13, 21, and so on.\n",
    "\n",
    "Mathematically, the Fibonacci sequence can be defined by the recurrence relation:\n",
    "\n",
    "\\[ F(n) = F(n-1) + F(n-2) \\]\n",
    "\n",
    "with initial conditions:\n",
    "\n",
    "\\[ F(0) = 0 \\]\n",
    "\\[ F(1) = 1 \\]\n",
    "\n",
    "This means that each term in the sequence is the sum of the two preceding terms.\n",
    "\n",
    "The Fibonacci sequence has many interesting properties and occurrences in nature, art, and mathematics. It appears in various natural phenomena, such as the arrangement of leaves on a stem, the branching of trees, the arrangement of pinecones and sunflower seeds, and even in the proportions of the human body. \n",
    "\n",
    "In mathematics, the Fibonacci sequence has connections to the golden ratio, which is an irrational number approximately equal to 1.61803398875. The ratio of consecutive Fibonacci numbers approaches the golden ratio as the sequence progresses.\n",
    "\n",
    "The Fibonacci sequence has numerous applications in various fields, including computer science, finance, and cryptography. In computer science, it's used in algorithms related to dynamic programming, graph theory, and combinatorics. In finance, it's used in calculating interest rates and analyzing market trends. In cryptography, it's used in generating pseudorandom numbers and designing secure encryption algorithms."
   ]
  },
  {
   "cell_type": "markdown",
   "metadata": {},
   "source": [
    "## Generating the nth Fibonacci Number"
   ]
  },
  {
   "cell_type": "markdown",
   "metadata": {},
   "source": [
    "A good resource for figuring out how to style Python cose is [PEP8](https://peps.python.org/pep-0008/).\n",
    "\n",
    "You might also look at [Google's official style guide for Python](https://google.github.io/styleguide/pyguide.html)."
   ]
  },
  {
   "cell_type": "code",
   "execution_count": 1,
   "metadata": {},
   "outputs": [],
   "source": [
    "def fib(x, y):\n",
    "    return x + y"
   ]
  },
  {
   "cell_type": "code",
   "execution_count": null,
   "metadata": {},
   "outputs": [],
   "source": [
    "def fibonacci(n):\n",
    "    # The first Fibonacci number (index 0) is 0.\n",
    "    if n == 0:\n",
    "        return 0\n",
    "    # The second Fibonacci number (index 1) is 1.\n",
    "    elif n == 1:\n",
    "        return 1\n",
    "    # Every other Fibonacci number is the sum of the two numbers before it.\n",
    "    else:\n",
    "        return fib(fibonacci(n-1), fibonacci(n-2))"
   ]
  },
  {
   "cell_type": "markdown",
   "metadata": {},
   "source": [
    "***\n",
    "\n",
    "## End"
   ]
  }
 ],
 "metadata": {
  "kernelspec": {
   "display_name": "base",
   "language": "python",
   "name": "python3"
  },
  "language_info": {
   "codemirror_mode": {
    "name": "ipython",
    "version": 3
   },
   "file_extension": ".py",
   "mimetype": "text/x-python",
   "name": "python",
   "nbconvert_exporter": "python",
   "pygments_lexer": "ipython3",
   "version": "3.11.5"
  }
 },
 "nbformat": 4,
 "nbformat_minor": 2
}
